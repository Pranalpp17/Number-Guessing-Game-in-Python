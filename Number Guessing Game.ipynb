{
 "cells": [
  {
   "cell_type": "markdown",
   "metadata": {},
   "source": [
    "\n",
    "# Number Guessing Game"
   ]
  },
  {
   "cell_type": "code",
   "execution_count": 2,
   "metadata": {},
   "outputs": [
    {
     "name": "stdout",
     "output_type": "stream",
     "text": [
      "number of guesses left 9\n",
      "Enter number\n",
      "96\n",
      "please decrease the value\n",
      "number of guesses left 8\n",
      "Enter number\n",
      "52\n",
      "please decrease the value\n",
      "number of guesses left 7\n",
      "Enter number\n",
      "15\n",
      "You have entered correct number\n"
     ]
    }
   ],
   "source": [
    "#Guessing of the hidden number\n",
    "\n",
    "i=9\n",
    "n = 15\n",
    "\n",
    "while (i>0):\n",
    " print(\"number of guesses left\",i)\n",
    " i = i - 1\n",
    " if i>-1:\n",
    "    a = int(input(\"Enter number\\n\"))\n",
    "    if a==n:\n",
    "        print(\"You have entered correct number\")\n",
    "        break\n",
    "    elif a<n:\n",
    "        print(\"Please Increase the value\")\n",
    "        continue\n",
    "    else:\n",
    "        print(\"please decrease the value\")\n",
    "        continue\n",
    "else:\n",
    "    print(\"GAME OVER\")"
   ]
  },
  {
   "cell_type": "code",
   "execution_count": null,
   "metadata": {},
   "outputs": [],
   "source": []
  }
 ],
 "metadata": {
  "kernelspec": {
   "display_name": "Python 3",
   "language": "python",
   "name": "python3"
  },
  "language_info": {
   "codemirror_mode": {
    "name": "ipython",
    "version": 3
   },
   "file_extension": ".py",
   "mimetype": "text/x-python",
   "name": "python",
   "nbconvert_exporter": "python",
   "pygments_lexer": "ipython3",
   "version": "3.8.3"
  }
 },
 "nbformat": 4,
 "nbformat_minor": 4
}
